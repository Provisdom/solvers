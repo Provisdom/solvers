{
 "cells": [
  {
   "cell_type": "markdown",
   "metadata": {},
   "source": [
    "Curve Fitting\n",
    "============="
   ]
  },
  {
   "cell_type": "code",
   "execution_count": 10,
   "metadata": {},
   "outputs": [],
   "source": [
    "(require '[provisdom.veja.core :as veja]\n",
    "         '[provisdom.veja-charts.core :as charts]\n",
    "         '[provisdom.math.core :as m]\n",
    "         '[provisdom.math.combinatorics :as combo]\n",
    "         '[provisdom.math.series :as series]\n",
    "         '[provisdom.solvers.curve-fitting :as curve-fitting])"
   ]
  },
  {
   "cell_type": "markdown",
   "metadata": {},
   "source": [
    "## Line Fitting\n",
    "\n",
    "We are going to find a line to best fit a small number of points."
   ]
  },
  {
   "cell_type": "code",
   "execution_count": 11,
   "metadata": {},
   "outputs": [
    {
     "data": {
      "text/plain": [
       "#'user/data-values"
      ]
     },
     "execution_count": 11,
     "metadata": {},
     "output_type": "execute_result"
    }
   ],
   "source": [
    "(defn point-data\n",
    "    [points-to-show]\n",
    "    (map (fn [[x y]] \n",
    "             {:Actual-X x \n",
    "              :Actual-Y y\n",
    "              :Actual-Type :points}) \n",
    "         points-to-show))\n",
    "\n",
    "(defn linear-least-squares-data-fn\n",
    "    [[basis-fn basis-fn-name] x-chart-values points]\n",
    "    (let [lls-fn (curve-fitting/linear-least-squares-line-fitting\n",
    "                     {::curve-fitting/x-vals   (mapv first points)\n",
    "                      ::curve-fitting/f-vals   (mapv second points)\n",
    "                      ::curve-fitting/basis-fn basis-fn})]\n",
    "        (map (fn [x] \n",
    "                 {:X x \n",
    "                  :Y ((::curve-fitting/line-fitting-fn lls-fn) x) \n",
    "                  :Type basis-fn-name})\n",
    "             x-chart-values)))\n",
    "\n",
    "(defn b-spline-data-fn\n",
    "    [degree x-chart-values points]\n",
    "    (let [b-spline-fn (curve-fitting/b-spline-line-fitting\n",
    "                     {::curve-fitting/distinct-x-vals (mapv first points)\n",
    "                      ::curve-fitting/f-vals          (mapv second points)\n",
    "                      ::curve-fitting/degree          degree})]\n",
    "        (map (fn [x] \n",
    "                 {:X x \n",
    "                  :Y (b-spline-fn x) \n",
    "                  :Type (str \"b-spline degree \" degree)})\n",
    "             x-chart-values)))\n",
    "\n",
    "(defn data-values\n",
    "    [x-chart-values points points-to-show basis-fn-with-names b-spline-degrees]\n",
    "    (vec (concat (point-data points-to-show) \n",
    "                 (mapcat (fn [basis-fn-with-name] \n",
    "                             (linear-least-squares-data-fn basis-fn-with-name x-chart-values points)) \n",
    "                         basis-fn-with-names)\n",
    "                 (mapcat (fn [degree] \n",
    "                             (b-spline-data-fn degree x-chart-values points)) \n",
    "                         b-spline-degrees))))"
   ]
  },
  {
   "cell_type": "markdown",
   "metadata": {},
   "source": [
    "Initially, we will compare a number of different chebyshev of the 1st kind basis functions in the `linear-least-squares-line-fitting` function. The dots represent the points. As expected, the higher the degree, the closer the fit, until the 4th degree is able to match the points."
   ]
  },
  {
   "cell_type": "code",
   "execution_count": 12,
   "metadata": {},
   "outputs": [
    {
     "data": {},
     "execution_count": 12,
     "metadata": {},
     "output_type": "execute_result"
    }
   ],
   "source": [
    "(def points-data [[2.0 26.0] [4.0 173.0] [5.0 281.0] [6.0 322.0] [7.0 37.0]])\n",
    "\n",
    "(def x-chart-range (range 1.0 7.25 0.01))\n",
    "\n",
    "(def chebyshev-1st-kind-basis-fns-with-names\n",
    "    [[(series/polynomial-fn 4 {::series/chebyshev-kind 1}) \n",
    "      \"chebyshev 1st-kind 4th degree\"]\n",
    "     [(series/polynomial-fn 3 {::series/chebyshev-kind 1}) \n",
    "      \"chebyshev 1st-kind 3rd degree\"]\n",
    "     [(series/polynomial-fn 2 {::series/chebyshev-kind 1}) \n",
    "      \"chebyshev 1st-kind 2nd degree\"]\n",
    "     [(series/polynomial-fn 1 {::series/chebyshev-kind 1}) \n",
    "      \"chebyshev 1st-kind 1st degree\"]])\n",
    "\n",
    "(def multi-line-data\n",
    "    (data-values x-chart-range points-data points-data chebyshev-1st-kind-basis-fns-with-names []))\n",
    "\n",
    "(def line-chart-map \n",
    "    {:x :X\n",
    "     :y :Y\n",
    "     :series :Type\n",
    "     :x-pt :Actual-X\n",
    "     :y-pt :Actual-Y\n",
    "     :series-pt :Actual-Type\n",
    "     :width 800\n",
    "     :height 500})\n",
    "\n",
    "(veja/vega-lite \n",
    "    (charts/multi-line-chart-with-points \n",
    "        (assoc line-chart-map :data multi-line-data)))"
   ]
  },
  {
   "cell_type": "markdown",
   "metadata": {},
   "source": [
    "Next, we can look at a variety of other basis functions."
   ]
  },
  {
   "cell_type": "code",
   "execution_count": 13,
   "metadata": {},
   "outputs": [
    {
     "data": {},
     "execution_count": 13,
     "metadata": {},
     "output_type": "execute_result"
    }
   ],
   "source": [
    "(def variety-of-basis-fns-with-names\n",
    "    [[(series/polynomial-fn 4 {::series/chebyshev-kind 2}) \n",
    "      \"chebyshev 2nd-kind 4th degree\"]\n",
    "     [(series/polynomial-fn 3) \n",
    "      \"polynomial 3rd degree\"]\n",
    "     [(series/polynomial-fn 5 {::series/start-degree 3}) \n",
    "      \"polynomial 3rd->5th degree\"]])\n",
    "\n",
    "(def multi-line-data2 \n",
    "    (data-values x-chart-range points-data points-data variety-of-basis-fns-with-names []))\n",
    "\n",
    "(veja/vega-lite \n",
    "    (charts/multi-line-chart-with-points \n",
    "        (assoc line-chart-map :data multi-line-data2)))"
   ]
  },
  {
   "cell_type": "markdown",
   "metadata": {},
   "source": [
    "Alternatively, we can use the `b-spline-line-fitting` function to use B-splines as our basis. Higher-order basis functions match degree 3 in this example."
   ]
  },
  {
   "cell_type": "code",
   "execution_count": 14,
   "metadata": {},
   "outputs": [
    {
     "data": {},
     "execution_count": 14,
     "metadata": {},
     "output_type": "execute_result"
    }
   ],
   "source": [
    "(def b-spline-degrees [1 2 3])\n",
    "(def multi-line-data3\n",
    "    (data-values x-chart-range points-data points-data [] b-spline-degrees))\n",
    "\n",
    "(veja/vega-lite \n",
    "    (charts/multi-line-chart-with-points \n",
    "        (assoc line-chart-map :data multi-line-data3)))"
   ]
  },
  {
   "cell_type": "markdown",
   "metadata": {},
   "source": [
    "## Path Fitting\n",
    "\n",
    "We are going to find a best fit of a path to points over a single \"time\" dimension, `t`."
   ]
  },
  {
   "cell_type": "code",
   "execution_count": 15,
   "metadata": {},
   "outputs": [
    {
     "data": {
      "text/plain": [
       "#'user/path-data-values"
      ]
     },
     "execution_count": 15,
     "metadata": {},
     "output_type": "execute_result"
    }
   ],
   "source": [
    "(defn- path-fn\n",
    "    [t-points basis-fn]\n",
    "    (fn [t]\n",
    "        (map (fn [lls-fn]\n",
    "                 ((::curve-fitting/line-fitting-fn lls-fn) t))\n",
    "             (map (fn [pts] \n",
    "                      (curve-fitting/linear-least-squares-line-fitting \n",
    "                          {::curve-fitting/x-vals   (mapv first t-points)\n",
    "                           ::curve-fitting/f-vals   pts\n",
    "                           ::curve-fitting/basis-fn basis-fn}))\n",
    "                  (let [tpts (mapv second t-points)]\n",
    "                      [(mapv first tpts) (mapv second tpts)])))))\n",
    "\n",
    "(defn path-points\n",
    "    [t-points]\n",
    "    (mapv (fn [[t [xt yt]]] \n",
    "              {:Actual-X xt \n",
    "               :Actual-Y yt\n",
    "               :Actual-Type :points\n",
    "               :actual-index t}) \n",
    "          t-points))\n",
    "\n",
    "(defn path-data\n",
    "    [t-chart-values t-points [basis-fn basis-fn-name]]\n",
    "    (let [p-fn (path-fn t-points basis-fn)]\n",
    "        (mapv (fn [t]\n",
    "                  (let [[x y] (p-fn t)]\n",
    "                      {:X x \n",
    "                       :Y y\n",
    "                       :Type basis-fn-name \n",
    "                       :index t}))\n",
    "              t-chart-values)))\n",
    "\n",
    "(defn path-data-values\n",
    "    [t-chart-values t-points t-points-to-show basis-fns-with-names]\n",
    "    (concat (path-points t-points-to-show)\n",
    "            (mapcat (fn [basis-fn-with-name] \n",
    "                        (path-data t-chart-values t-points basis-fn-with-name))\n",
    "                    basis-fns-with-names)))"
   ]
  },
  {
   "cell_type": "markdown",
   "metadata": {},
   "source": [
    "Any of the line-fitting functions should work here, so we'll just try a variety of linear least squares functions."
   ]
  },
  {
   "cell_type": "code",
   "execution_count": 16,
   "metadata": {},
   "outputs": [
    {
     "data": {},
     "execution_count": 16,
     "metadata": {},
     "output_type": "execute_result"
    }
   ],
   "source": [
    "(def t-points-data [[2.0 [26.0 34.0]] [4.0 [173.0 62.0]] [5.0 [281.0 71.0]] [6.0 [322.0 79.0]] [7.0 [37.0 86.0]]])\n",
    "\n",
    "(def parametric-data (path-data-values x-chart-range t-points-data t-points-data variety-of-basis-fns-with-names))\n",
    "\n",
    "(def parametric-plot-map \n",
    "    {:x :X\n",
    "     :y :Y\n",
    "     :series :Type\n",
    "     :order :index\n",
    "     :x-pt :Actual-X\n",
    "     :y-pt :Actual-Y\n",
    "     :series-pt :Actual-Type\n",
    "     :order-pt :actual-index\n",
    "     :width 800\n",
    "     :height 500})\n",
    "\n",
    "(veja/vega-lite \n",
    "    (charts/multi-parametric-plot-with-points \n",
    "        (assoc parametric-plot-map :data parametric-data)))"
   ]
  },
  {
   "cell_type": "markdown",
   "metadata": {},
   "source": [
    "## 2D Curve Fitting\n",
    "\n",
    "We are going to find the best fit to points in 2D. "
   ]
  },
  {
   "cell_type": "code",
   "execution_count": 17,
   "metadata": {},
   "outputs": [
    {
     "data": {
      "text/plain": [
       "#'user/curve-fitting-2D-fn"
      ]
     },
     "execution_count": 17,
     "metadata": {},
     "output_type": "execute_result"
    }
   ],
   "source": [
    "(defn curve-fitting-2D-fn \n",
    "    [basis-2D-fn x-chart-values y-chart-values points-2D]\n",
    "    (let [curve-fn (curve-fitting/linear-least-squares-curve-fitting \n",
    "                   {::curve-fitting/x-matrix       (mapv first points-2D)\n",
    "                    ::curve-fitting/f-vals         (mapv second points-2D)\n",
    "                    ::curve-fitting/curve-basis-fn (fn [v]\n",
    "                                                       (if (= 2 (count v))\n",
    "                                                           (let [[x y] v\n",
    "                                                                 val-v (basis-2D-fn x y)]\n",
    "                                                               val-v)\n",
    "                                                           []))})]\n",
    "        (mapcat (fn [x]\n",
    "                    (map (fn [y]\n",
    "                             {:X x \n",
    "                              :Y y \n",
    "                              :Z ((::curve-fitting/curve-fitting-fn curve-fn) [x y])})\n",
    "                         y-chart-values)) \n",
    "                x-chart-values)))"
   ]
  },
  {
   "cell_type": "markdown",
   "metadata": {},
   "source": [
    "Below is a heatmap of best fit for `points-in-2D`. We're using `(series/polynomial-2D-fn-by-degree 2)` as the basis function."
   ]
  },
  {
   "cell_type": "code",
   "execution_count": 18,
   "metadata": {},
   "outputs": [
    {
     "data": {},
     "execution_count": 18,
     "metadata": {},
     "output_type": "execute_result"
    }
   ],
   "source": [
    "(def points-in-2D\n",
    "  [[[2.0 18.0] 796.0]\n",
    "   [[2.0 20.0] 1090.0]\n",
    "   [[2.0 21.0] 1261.0]\n",
    "   [[2.0 23.0] 1654.0]\n",
    "   [[2.0 26.0] 2387.0]\n",
    "   [[2.0 45.0] 12344.0]\n",
    "   [[4.0 18.0] 114.0]\n",
    "   [[4.0 20.0] 153.0]\n",
    "   [[4.0 21.0] 177.0]\n",
    "   [[4.0 23.0] 230.0]\n",
    "   [[4.0 26.0] 329.0]\n",
    "   [[4.0 45.0] 1677.0]\n",
    "   [[5.0 18.0] 47.0]\n",
    "   [[5.0 20.0] 62.0]\n",
    "   [[5.0 21.0] 70.0]\n",
    "   [[5.0 23.0] 90.0]\n",
    "   [[5.0 26.0] 126.0]\n",
    "   [[5.0 45.0] 623.0]\n",
    "   [[6.0 18.0] 23.0]\n",
    "   [[6.0 20.0] 28.0]\n",
    "   [[6.0 21.0] 32.0]\n",
    "   [[6.0 23.0] 39.0]\n",
    "   [[6.0 26.0] 52.0]\n",
    "   [[6.0 45.0] 235.0]\n",
    "   [[7.0 18.0] 15.0]\n",
    "   [[7.0 20.0] 17.0]\n",
    "   [[7.0 21.0] 18.0]\n",
    "   [[7.0 23.0] 21.0]\n",
    "   [[7.0 26.0] 26.0]\n",
    "   [[7.0 45.0] 93.0]])\n",
    "\n",
    "(def chart-x-range (range 1.0 7.25 0.02))\n",
    "(def chart-y-range (range 14.0 49.0 0.2))\n",
    "(def x-count (* 6.25 50))\n",
    "(def y-count (/ 35 0.2))\n",
    "\n",
    "(veja/vega \n",
    "    (charts/heat-map \n",
    "        {:data (curve-fitting-2D-fn (series/polynomial-2D-fn-by-degree 2) chart-x-range chart-y-range points-in-2D) \n",
    "        :x :X \n",
    "        :y :Y \n",
    "        :z :Z\n",
    "        :width 750\n",
    "        :height 500\n",
    "        :x-count x-count\n",
    "        :y-count y-count}))\n"
   ]
  }
 ],
 "metadata": {
  "kernelspec": {
   "display_name": "Lein-Clojure",
   "language": "clojure",
   "name": "lein-clojure"
  },
  "language_info": {
   "file_extension": ".clj",
   "mimetype": "text/x-clojure",
   "name": "clojure",
   "version": "1.9.0"
  }
 },
 "nbformat": 4,
 "nbformat_minor": 2
}
